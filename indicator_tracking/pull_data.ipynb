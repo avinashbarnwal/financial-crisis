{
 "cells": [
  {
   "cell_type": "code",
   "execution_count": 1,
   "metadata": {},
   "outputs": [],
   "source": [
    "import pandas_datareader as pdr # access fred\n",
    "import pandas as pd\n",
    "import requests # data from api\n",
    "# import plotly.express as px # visualize\n",
    "from datetime import datetime\n",
    "import matplotlib.pyplot as plt"
   ]
  },
  {
   "cell_type": "code",
   "execution_count": 2,
   "metadata": {},
   "outputs": [],
   "source": [
    "\n",
    "def fetch_fred_data_as_df(series_id,api_key):\n",
    "    \"\"\"\n",
    "    Fetches data for a given series ID from the FRED API and returns as a pandas DataFrame.\n",
    "\n",
    "    Args:\n",
    "    - series_id (str): The series ID of the economic indicator.\n",
    "\n",
    "    Returns:\n",
    "    - pandas.DataFrame: DataFrame containing the fetched data.\n",
    "    \"\"\"\n",
    "    base_url = \"https://api.stlouisfed.org/fred/\"\n",
    "    params = {\n",
    "        \"series_id\": series_id,\n",
    "        \"api_key\": api_key,\n",
    "        \"file_type\": \"json\"\n",
    "    }\n",
    "\n",
    "    response = requests.get(base_url + \"series/observations\", params=params)\n",
    "    data = response.json()['observations']\n",
    "    # Convert JSON data to pandas DataFrame\n",
    "    df = pd.DataFrame(data)\n",
    "    df['date'] = pd.to_datetime(df['date'])\n",
    "    df.set_index('date', inplace=True)\n",
    "    return df"
   ]
  },
  {
   "cell_type": "code",
   "execution_count": 3,
   "metadata": {},
   "outputs": [],
   "source": [
    "api_key = \"fb97ce177d1337f7c67916562b9a164a\"\n",
    "df_gdp = fetch_fred_data_as_df(\"GDP\", api_key)\n",
    "df_cpi = fetch_fred_data_as_df(\"CPIAUCSL\", api_key)\n",
    "df_unemployment = fetch_fred_data_as_df(\"UNRATE\", api_key)\n",
    "df_interest_rate = fetch_fred_data_as_df(\"DFF\", api_key)\n",
    "df_stock_index = fetch_fred_data_as_df(\"SP500\", api_key)"
   ]
  }
 ],
 "metadata": {
  "kernelspec": {
   "display_name": "Python 3",
   "language": "python",
   "name": "python3"
  },
  "language_info": {
   "codemirror_mode": {
    "name": "ipython",
    "version": 3
   },
   "file_extension": ".py",
   "mimetype": "text/x-python",
   "name": "python",
   "nbconvert_exporter": "python",
   "pygments_lexer": "ipython3",
   "version": "3.13.3"
  }
 },
 "nbformat": 4,
 "nbformat_minor": 2
}
